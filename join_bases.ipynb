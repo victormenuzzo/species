{
 "cells": [
  {
   "cell_type": "code",
   "execution_count": 0,
   "metadata": {
    "colab": {
     "base_uri": "https://localhost:8080/",
     "height": 122
    },
    "colab_type": "code",
    "id": "zT4g_csshhW2",
    "outputId": "d115167b-02ef-4bee-aa66-3b97ea2b6d42"
   },
   "outputs": [
    {
     "name": "stdout",
     "output_type": "stream",
     "text": [
      "Go to this URL in a browser: https://accounts.google.com/o/oauth2/auth?client_id=947318989803-6bn6qk8qdgf4n4g3pfee6491hc0brc4i.apps.googleusercontent.com&redirect_uri=urn%3Aietf%3Awg%3Aoauth%3A2.0%3Aoob&scope=email%20https%3A%2F%2Fwww.googleapis.com%2Fauth%2Fdocs.test%20https%3A%2F%2Fwww.googleapis.com%2Fauth%2Fdrive%20https%3A%2F%2Fwww.googleapis.com%2Fauth%2Fdrive.photos.readonly%20https%3A%2F%2Fwww.googleapis.com%2Fauth%2Fpeopleapi.readonly&response_type=code\n",
      "\n",
      "Enter your authorization code:\n",
      "··········\n",
      "Mounted at /content/drive\n"
     ]
    }
   ],
   "source": [
    "import pandas as pd\n",
    "import numpy as np\n",
    "import sys\n",
    "import networkx as nx\n",
    "import matplotlib.pyplot as plt\n",
    "import seaborn as sns"
   ]
  },
  {
   "cell_type": "markdown",
   "metadata": {
    "colab_type": "text",
    "id": "ugN2YNHKOAdd"
   },
   "source": [
    "## Importing Datasets"
   ]
  },
  {
   "cell_type": "code",
   "execution_count": 0,
   "metadata": {
    "colab": {},
    "colab_type": "code",
    "id": "I4OzEbguOZnB"
   },
   "outputs": [],
   "source": [
    "dfInteractions = pd.read_csv(\n",
    "   'data/interactions.tsv',\n",
    "   # sep='\\t',\n",
    "   error_bad_lines=False,\n",
    "   low_memory=False\n",
    ")\n",
    "print('sucesso')"
   ]
  },
  {
   "cell_type": "code",
   "execution_count": 0,
   "metadata": {
    "colab": {},
    "colab_type": "code",
    "id": "L0rYUrNdEzgv"
   },
   "outputs": [],
   "source": [
    "dfInteractions.head(10)"
   ]
  },
  {
   "cell_type": "code",
   "execution_count": 0,
   "metadata": {
    "colab": {},
    "colab_type": "code",
    "id": "9dUizBo8_xlp"
   },
   "outputs": [],
   "source": [
    "dfInteractions.shape"
   ]
  },
  {
   "cell_type": "code",
   "execution_count": 0,
   "metadata": {
    "colab": {},
    "colab_type": "code",
    "id": "ynODBgCE1C_t"
   },
   "outputs": [],
   "source": [
    "dfInteractions.columns"
   ]
  },
  {
   "cell_type": "code",
   "execution_count": 0,
   "metadata": {
    "colab": {},
    "colab_type": "code",
    "id": "IL8nrpuSEvbX"
   },
   "outputs": [],
   "source": [
    "dfVertebrates = pd.read_csv(\n",
    "   '/data/AllVertebrates.csv,\n",
    "   # sep='\\t',\n",
    "   error_bad_lines=False,\n",
    "   low_memory=False\n",
    ")\n",
    "print('sucesso')"
   ]
  },
  {
   "cell_type": "code",
   "execution_count": 0,
   "metadata": {
    "colab": {},
    "colab_type": "code",
    "id": "wZZA3v5t2wLS"
   },
   "outputs": [],
   "source": [
    "dfVertebrates.head(10)"
   ]
  },
  {
   "cell_type": "code",
   "execution_count": 0,
   "metadata": {
    "colab": {},
    "colab_type": "code",
    "id": "GOWzcBgYA33u"
   },
   "outputs": [],
   "source": [
    "dfVertebrates.columns"
   ]
  },
  {
   "cell_type": "code",
   "execution_count": 0,
   "metadata": {
    "colab": {},
    "colab_type": "code",
    "id": "1DjHwS90LSuk"
   },
   "outputs": [],
   "source": [
    "dfVertebrates.head()\n",
    "dfVertebrates.count()"
   ]
  },
  {
   "cell_type": "markdown",
   "metadata": {
    "colab_type": "text",
    "id": "yl4tU9nJBC30"
   },
   "source": [
    "# Normalizing Species"
   ]
  },
  {
   "cell_type": "markdown",
   "metadata": {
    "colab_type": "text",
    "id": "5cn3_QB0nQ7J"
   },
   "source": [
    "## Vertebrates"
   ]
  },
  {
   "cell_type": "code",
   "execution_count": 0,
   "metadata": {
    "colab": {},
    "colab_type": "code",
    "id": "U6NtQrT2Bild"
   },
   "outputs": [],
   "source": [
    "#https://stackoverflow.com/questions/36383821/pandas-dataframe-apply-function-to-column-strings-based-on-other-column-value\n",
    "dfVertebrates['final_name'] = dfVertebrates.apply(lambda L: L.Genus.strip().lower() + ' ' + L.Species.strip().lower(), axis=1)\n",
    "\n",
    "dfVertebrates.head()\n",
    "\n",
    "#dfVertebrates.count()\n",
    "arrSpeciesVertebrates = dfVertebrates['final_name'].unique()\n",
    "\n",
    "dfSpeciesVertebrates = pd.DataFrame({'final_name':arrSpeciesVertebrates[:]})\n",
    "\n",
    "dfSpeciesVertebrates.head(10)"
   ]
  },
  {
   "cell_type": "code",
   "execution_count": 0,
   "metadata": {
    "colab": {},
    "colab_type": "code",
    "id": "1LksRjM3zSJw"
   },
   "outputs": [],
   "source": [
    "#execute the following to test\n",
    "dfSpeciesVertebrates.count()\n",
    "#expected 46557"
   ]
  },
  {
   "cell_type": "markdown",
   "metadata": {
    "colab_type": "text",
    "id": "F-6uaF5LnS3-"
   },
   "source": [
    "##Interactions"
   ]
  },
  {
   "cell_type": "code",
   "execution_count": 0,
   "metadata": {
    "colab": {},
    "colab_type": "code",
    "id": "93B_z684tJvg"
   },
   "outputs": [],
   "source": [
    "# https://stackoverflow.com/questions/22005911/convert-columns-to-string-in-pandas\n",
    "# df[[\"D\", \"E\"]] = df[[\"D\", \"E\"]].astype(int) \n",
    "\n",
    "#getting only the columns that matters now (taxon name)\n",
    "dfInteractions[['sourceTaxonName','targetTaxonName']] = dfInteractions[['sourceTaxonName','targetTaxonName']].astype(str)\n",
    "\n",
    "dfInteractions['source_final_name'] = dfInteractions.apply(lambda L: L.sourceTaxonName.strip().lower(), axis=1)\n",
    "dfInteractions['target_final_name'] = dfInteractions.apply(lambda L: L.targetTaxonName.strip().lower(), axis=1)\n",
    "\n",
    "dfInteractions[['sourceTaxonName','source_final_name','targetTaxonName','target_final_name']].head(10)"
   ]
  },
  {
   "cell_type": "code",
   "execution_count": 0,
   "metadata": {
    "colab": {},
    "colab_type": "code",
    "id": "40LKV0q3ITve"
   },
   "outputs": [],
   "source": [
    "#way2\n",
    "#interactionsTaxonNamesWithoutNaN = pd.concat([dfInteractions[dfInteractions.targetTaxonSpeciesName.isnull()], dfInteractions[dfInteractions.targetTaxonSpeciesName.notnull()]])"
   ]
  },
  {
   "cell_type": "code",
   "execution_count": 0,
   "metadata": {
    "colab": {},
    "colab_type": "code",
    "id": "avkZvnsVvxRP"
   },
   "outputs": [],
   "source": [
    "arrSpeciesInteractions = pd.concat([dfInteractions['source_final_name'], dfInteractions['target_final_name']])\n",
    "\n",
    "arrSpeciesInteractions.head(10)"
   ]
  },
  {
   "cell_type": "code",
   "execution_count": 0,
   "metadata": {
    "colab": {},
    "colab_type": "code",
    "id": "SBs4pDpEu7w8"
   },
   "outputs": [],
   "source": [
    "#execute the following to test\n",
    "arrSpeciesInteractions.count()\n",
    "#expected 7331620"
   ]
  },
  {
   "cell_type": "code",
   "execution_count": 0,
   "metadata": {
    "colab": {},
    "colab_type": "code",
    "id": "REPGjXxp1lxI"
   },
   "outputs": [],
   "source": [
    "arrSpeciesInteractions = arrSpeciesInteractions.unique()\n",
    "\n",
    "dfSpeciesInteractions = pd.DataFrame({'final_name':arrSpeciesInteractions[:]})\n",
    "\n",
    "print('sucesso')"
   ]
  },
  {
   "cell_type": "code",
   "execution_count": 0,
   "metadata": {
    "colab": {},
    "colab_type": "code",
    "id": "D9QLIzRG2avr"
   },
   "outputs": [],
   "source": [
    "dfSpeciesInteractions.head(10)"
   ]
  },
  {
   "cell_type": "code",
   "execution_count": 0,
   "metadata": {
    "colab": {},
    "colab_type": "code",
    "id": "0VqLo7km17_Y"
   },
   "outputs": [],
   "source": [
    "#execute the following to test\n",
    "dfSpeciesInteractions.count()\n",
    "#expected 211397"
   ]
  },
  {
   "cell_type": "markdown",
   "metadata": {
    "colab_type": "text",
    "id": "DVMDAzuf9poj"
   },
   "source": [
    "## Intersection"
   ]
  },
  {
   "cell_type": "code",
   "execution_count": 0,
   "metadata": {
    "colab": {},
    "colab_type": "code",
    "id": "GJ_fBWYy9uWo"
   },
   "outputs": [],
   "source": [
    "dfInterSpecies = pd.merge(dfSpeciesInteractions, dfSpeciesVertebrates, on=\"final_name\")\n",
    "\n",
    "dfInterSpecies.head()"
   ]
  },
  {
   "cell_type": "code",
   "execution_count": 0,
   "metadata": {
    "colab": {},
    "colab_type": "code",
    "id": "fcXLtaIK_W83"
   },
   "outputs": [],
   "source": [
    "#execute the following to test\n",
    "dfInterSpecies.count()\n",
    "#expected 13626"
   ]
  },
  {
   "cell_type": "markdown",
   "metadata": {
    "colab_type": "text",
    "id": "959EN0WO8_22"
   },
   "source": [
    "## All Species"
   ]
  },
  {
   "cell_type": "code",
   "execution_count": 0,
   "metadata": {
    "colab": {},
    "colab_type": "code",
    "id": "y1k4y3xg9JhR"
   },
   "outputs": [],
   "source": [
    "dfAllSpecies = pd.concat([dfSpeciesInteractions, dfSpeciesVertebrates])\n",
    "\n",
    "dfAllSpecies.head(10)"
   ]
  },
  {
   "cell_type": "code",
   "execution_count": 0,
   "metadata": {
    "colab": {},
    "colab_type": "code",
    "id": "vbhcDbK59J8W"
   },
   "outputs": [],
   "source": [
    "#execute the following to test\n",
    "dfAllSpecies.count()\n",
    "#expected 257954"
   ]
  },
  {
   "cell_type": "code",
   "execution_count": 0,
   "metadata": {
    "colab": {},
    "colab_type": "code",
    "id": "RF2QjW59-EsY"
   },
   "outputs": [],
   "source": [
    "dfAllSpecies = dfAllSpecies['final_name'].unique()\n",
    "\n",
    "dfAllSpecies = pd.DataFrame({'final_name':dfAllSpecies[:]})\n",
    "\n",
    "dfAllSpecies = dfAllSpecies.sort_values(by=['final_name'])\n",
    "\n",
    "print('sucesso')"
   ]
  },
  {
   "cell_type": "code",
   "execution_count": 0,
   "metadata": {
    "colab": {},
    "colab_type": "code",
    "id": "qu0v8eo_yW_C"
   },
   "outputs": [],
   "source": [
    "dfAllSpecies.head(10)"
   ]
  },
  {
   "cell_type": "code",
   "execution_count": 0,
   "metadata": {
    "colab": {},
    "colab_type": "code",
    "id": "jSXyi5kLJLL4"
   },
   "outputs": [],
   "source": [
    "\n",
    "dfInteractions[dfInteractions.targetTaxonName=='1 of 100']"
   ]
  },
  {
   "cell_type": "code",
   "execution_count": 0,
   "metadata": {
    "colab": {},
    "colab_type": "code",
    "id": "b1bKW8F2-NOk"
   },
   "outputs": [],
   "source": [
    "#execute the following to test\n",
    "dfAllSpecies.head(10)\n",
    "#expected 244328"
   ]
  },
  {
   "cell_type": "markdown",
   "metadata": {
    "colab_type": "text",
    "id": "j1tuGMIHtC06"
   },
   "source": [
    "# Joining"
   ]
  },
  {
   "cell_type": "markdown",
   "metadata": {
    "colab_type": "text",
    "id": "D7vrXZ6T8AKg"
   },
   "source": [
    "Will consist in Join the following sequence:\n",
    "\n",
    "IUCN source info\n",
    "\n",
    "Interactions\n",
    "\n",
    "IUCN target info"
   ]
  },
  {
   "cell_type": "code",
   "execution_count": 0,
   "metadata": {
    "colab": {},
    "colab_type": "code",
    "id": "dmfXnuX5y4mj"
   },
   "outputs": [],
   "source": [
    "#https://stackoverflow.com/questions/44768808/python-pandas-merging-two-dataframes-based-in-a-non-index-column\n",
    "#df1.merge(df2,  on='cnpj',suffixes=('','_y')).drop('index_y',axis=1)\n",
    "\n",
    "#LONG VERSION\n",
    "#dfFinalJoin = pd.merge(dfAllSpecies, dfVertebrates, left_on='final_name',right_on='final_name', how='inner')\n",
    "\n",
    "#SHORT VERSION\n",
    "#dfFinalJoin = pd.merge(dfAllSpecies, dfVertebrates, on='final_name')\n",
    "\n",
    "\n",
    "dfSourceJoin = pd.merge(dfVertebrates, dfInteractions, left_on='final_name',right_on='source_final_name', how='inner')\n",
    "\n",
    "\n",
    "dfSourceJoin.head(10)\n"
   ]
  },
  {
   "cell_type": "code",
   "execution_count": 0,
   "metadata": {
    "colab": {},
    "colab_type": "code",
    "id": "zPH6bkkDAK4D"
   },
   "outputs": [],
   "source": [
    "#checking size of JOIN from IUCN to source Interactions\n",
    "dfSourceJoin.shape\n",
    "#Expected 1.124.939"
   ]
  },
  {
   "cell_type": "code",
   "execution_count": 0,
   "metadata": {
    "colab": {},
    "colab_type": "code",
    "id": "lRzP_xnjF-Ns"
   },
   "outputs": [],
   "source": [
    "#JUST TO KNOW, THE RIGHT SIZE\n",
    "\n",
    "dfTargetJoin = pd.merge(dfInteractions, dfVertebrates, left_on='target_final_name',right_on='final_name', how='inner')\n",
    "\n",
    "#checking size of JOIN from IUCN to target Interactions\n",
    "dfTargetJoin.shape\n",
    "#553534"
   ]
  },
  {
   "cell_type": "code",
   "execution_count": 0,
   "metadata": {
    "colab": {},
    "colab_type": "code",
    "id": "n1Gi7CD_D3ll"
   },
   "outputs": [],
   "source": [
    "dfFinalJoin = pd.merge(dfSourceJoin, dfVertebrates, left_on='target_final_name', right_on='final_name', suffixes=(\"_source\",\"_target\"), how='inner')\n",
    "\n",
    "\n",
    "dfFinalJoin.head(10)\n"
   ]
  },
  {
   "cell_type": "code",
   "execution_count": 0,
   "metadata": {
    "colab": {},
    "colab_type": "code",
    "id": "7vd2GL1qFVEX"
   },
   "outputs": [],
   "source": [
    "#getting final join n of rows\n",
    "dfFinalJoin.shape\n",
    "#should be 119.504"
   ]
  },
  {
   "cell_type": "code",
   "execution_count": 0,
   "metadata": {
    "colab": {},
    "colab_type": "code",
    "id": "XmSelrs8IBTu"
   },
   "outputs": [],
   "source": [
    "export_csv = dfFinalJoin.to_csv ('data/interactions_between_vertebrates.csv', index = None, header=True)\n",
    "\n",
    "print('sucesso')"
   ]
  },
  {
   "cell_type": "code",
   "execution_count": 0,
   "metadata": {
    "colab": {},
    "colab_type": "code",
    "id": "gpIcWzjX0nM5"
   },
   "outputs": [],
   "source": [
    "dfFinalEats = dfFinalJoin[dfFinalJoin['interactionTypeName']==\"eats\"]\n",
    "dfFinalEats = dfFinalEats.reset_index()\n",
    "dfFinalEats = pd.concat([dfFinalEats[\"source_final_name\"], dfFinalEats[\"target_final_name\"]])\n",
    "\n",
    "\n",
    "\n",
    "dfFinalEats.unique().shape"
   ]
  },
  {
   "cell_type": "markdown",
   "metadata": {
    "colab_type": "text",
    "id": "iNDzIbym-u_4"
   },
   "source": [
    "# Conclusions\n"
   ]
  },
  {
   "cell_type": "markdown",
   "metadata": {
    "colab_type": "text",
    "id": "AJkCQ-aZ-5fn"
   },
   "source": [
    "(2019 October 15th, 21h44m)\n",
    "\n",
    "In Vertebrates dataset, there are 46.557 registers, with 46.557 unique species\n",
    "\n",
    "In Interactions dataset, there are 3.665.810 registers, with 211.397 unique species\n",
    "\n",
    "When matching datasets, we get 257.954 registers, with 244.328 unique species.\n",
    "\n",
    "That means that we have 13.626 intersection matches. That represents 29.26% from the Vertebrates dataset"
   ]
  },
  {
   "cell_type": "markdown",
   "metadata": {
    "colab_type": "text",
    "id": "iPhD80YiG-pv"
   },
   "source": [
    "(2019 October 19th, 23h59m)\n",
    "\n",
    "Officially, after joining the bases, we got 13.626 unique species found in both datasets.\n",
    "\n",
    "When Joining, we had 1.124.939 interactions that had a source at IUCN Vertebrates dataset, and 553.534 interactions that had a target at IUCN Vertebrates dataset\n",
    "\n",
    "At last, we got 119.504 interactions that had both a source and target that was at IUCN Vertebrates dataset"
   ]
  }
 ],
 "metadata": {
  "colab": {
   "collapsed_sections": [],
   "machine_shape": "hm",
   "name": "join bases.ipynb",
   "provenance": [],
   "toc_visible": true
  },
  "kernelspec": {
   "display_name": "Python 3",
   "language": "python",
   "name": "python3"
  },
  "language_info": {
   "codemirror_mode": {
    "name": "ipython",
    "version": 3
   },
   "file_extension": ".py",
   "mimetype": "text/x-python",
   "name": "python",
   "nbconvert_exporter": "python",
   "pygments_lexer": "ipython3",
   "version": "3.6.4"
  }
 },
 "nbformat": 4,
 "nbformat_minor": 1
}
